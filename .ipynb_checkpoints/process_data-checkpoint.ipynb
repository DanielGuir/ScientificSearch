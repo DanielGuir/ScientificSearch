{
 "cells": [
  {
   "cell_type": "code",
   "execution_count": 4,
   "metadata": {},
   "outputs": [],
   "source": [
    "from Bio.Entrez import efetch, read\n",
    "\n",
    "def fetch_abstract(pmid):\n",
    "    handle = efetch(db='pubmed', id=pmid, retmode='xml')\n",
    "    xml_data = read(handle)['PubmedArticle'][0]\n",
    "    try:\n",
    "        article = xml_data['MedlineCitation']['Article']\n",
    "        abstract = article['Abstract']['AbstractText'][0]\n",
    "        return abstract\n",
    "    except IndexError:\n",
    "        return None\n",
    "\n",
    "def fetch_title(pmid):\n",
    "    handle = efetch(db='pubmed', id=pmid, retmode='xml')\n",
    "    xml_data = read(handle)['PubmedArticle'][0]\n",
    "    try:\n",
    "        article_title = xml_data['MedlineCitation']['Article']['ArticleTitle']\n",
    "\n",
    "        return article_title\n",
    "    except IndexError:\n",
    "        return None"
   ]
  },
  {
   "cell_type": "code",
   "execution_count": 3,
   "metadata": {},
   "outputs": [
    {
     "name": "stdout",
     "output_type": "stream",
     "text": [
      "Requirement already satisfied: Biopython in c:\\programdata\\anaconda3\\envs\\test\\lib\\site-packages (1.80)\n",
      "Requirement already satisfied: numpy in c:\\programdata\\anaconda3\\envs\\test\\lib\\site-packages (from Biopython) (1.21.5)\n"
     ]
    },
    {
     "name": "stderr",
     "output_type": "stream",
     "text": [
      "WARNING: Ignoring invalid distribution -ydantic (c:\\programdata\\anaconda3\\envs\\test\\lib\\site-packages)\n",
      "WARNING: Ignoring invalid distribution -ydantic (c:\\programdata\\anaconda3\\envs\\test\\lib\\site-packages)\n",
      "WARNING: Ignoring invalid distribution -ydantic (c:\\programdata\\anaconda3\\envs\\test\\lib\\site-packages)\n",
      "WARNING: Ignoring invalid distribution -ydantic (c:\\programdata\\anaconda3\\envs\\test\\lib\\site-packages)\n",
      "WARNING: Ignoring invalid distribution -ydantic (c:\\programdata\\anaconda3\\envs\\test\\lib\\site-packages)\n",
      "WARNING: Ignoring invalid distribution -ydantic (c:\\programdata\\anaconda3\\envs\\test\\lib\\site-packages)\n"
     ]
    }
   ],
   "source": [
    "!pip install Biopython"
   ]
  },
  {
   "cell_type": "code",
   "execution_count": 2,
   "metadata": {},
   "outputs": [],
   "source": [
    "import pandas as pd\n",
    "articles = pd.read_csv('extra/data/PubMed/oa_noncomm_xml.PMC001xxxxxx.baseline.2022-12-18.filelist.txt', delimiter='\\t')"
   ]
  },
  {
   "cell_type": "code",
   "execution_count": 8,
   "metadata": {},
   "outputs": [
    {
     "name": "stdout",
     "output_type": "stream",
     "text": [
      "Impaired development of CD4+ CD25+ regulatory T cells in the absence of STAT1: increased susceptibility to autoimmune disease.\n"
     ]
    },
    {
     "ename": "TypeError",
     "evalue": "bad operand type for unary +: 'StringElement'",
     "output_type": "error",
     "traceback": [
      "\u001b[1;31m---------------------------------------------------------------------------\u001b[0m",
      "\u001b[1;31mTypeError\u001b[0m                                 Traceback (most recent call last)",
      "\u001b[1;32m~\\AppData\\Local\\Temp/ipykernel_63576/4026121826.py\u001b[0m in \u001b[0;36m<module>\u001b[1;34m\u001b[0m\n\u001b[0;32m      4\u001b[0m         \u001b[0mid\u001b[0m \u001b[1;33m=\u001b[0m \u001b[0mstr\u001b[0m\u001b[1;33m(\u001b[0m\u001b[0mid\u001b[0m\u001b[1;33m)\u001b[0m\u001b[1;33m\u001b[0m\u001b[1;33m\u001b[0m\u001b[0m\n\u001b[0;32m      5\u001b[0m         \u001b[0mprint\u001b[0m\u001b[1;33m(\u001b[0m\u001b[0mfetch_title\u001b[0m\u001b[1;33m(\u001b[0m\u001b[0mid\u001b[0m\u001b[1;33m)\u001b[0m\u001b[1;33m)\u001b[0m\u001b[1;33m\u001b[0m\u001b[1;33m\u001b[0m\u001b[0m\n\u001b[1;32m----> 6\u001b[1;33m         \u001b[0mf\u001b[0m \u001b[1;33m=\u001b[0m \u001b[0mopen\u001b[0m\u001b[1;33m(\u001b[0m\u001b[0mfolder\u001b[0m \u001b[1;33m+\u001b[0m  \u001b[1;33m+\u001b[0m \u001b[0mfetch_title\u001b[0m\u001b[1;33m(\u001b[0m\u001b[0mid\u001b[0m\u001b[1;33m)\u001b[0m \u001b[1;33m+\u001b[0m \u001b[1;34m'.txt'\u001b[0m\u001b[1;33m,\u001b[0m \u001b[1;34m\"x\"\u001b[0m\u001b[1;33m)\u001b[0m\u001b[1;33m\u001b[0m\u001b[1;33m\u001b[0m\u001b[0m\n\u001b[0m\u001b[0;32m      7\u001b[0m         \u001b[0mf\u001b[0m\u001b[1;33m.\u001b[0m\u001b[0mwrite\u001b[0m\u001b[1;33m(\u001b[0m\u001b[0mfetch_abstract\u001b[0m\u001b[1;33m(\u001b[0m\u001b[0mid\u001b[0m\u001b[1;33m)\u001b[0m\u001b[1;33m)\u001b[0m\u001b[1;33m\u001b[0m\u001b[1;33m\u001b[0m\u001b[0m\n\u001b[0;32m      8\u001b[0m         \u001b[0mf\u001b[0m\u001b[1;33m.\u001b[0m\u001b[0mclose\u001b[0m\u001b[1;33m(\u001b[0m\u001b[1;33m)\u001b[0m\u001b[1;33m\u001b[0m\u001b[1;33m\u001b[0m\u001b[0m\n",
      "\u001b[1;31mTypeError\u001b[0m: bad operand type for unary +: 'StringElement'"
     ]
    }
   ],
   "source": [
    "folder = 'extra/data/PubMed/text1/'\n",
    "for id in articles['PMID']:\n",
    "#     try:\n",
    "        id = str(id)\n",
    "        print(fetch_title(id))\n",
    "        f = open(folder + fetch_title(id) + '.txt', \"x\")\n",
    "        f.write(fetch_abstract(id))\n",
    "        f.close()\n",
    "#     except:\n",
    "#         continue\n"
   ]
  },
  {
   "cell_type": "code",
   "execution_count": null,
   "metadata": {},
   "outputs": [],
   "source": []
  }
 ],
 "metadata": {
  "kernelspec": {
   "display_name": "Python 3 (ipykernel)",
   "language": "python",
   "name": "python3"
  },
  "language_info": {
   "codemirror_mode": {
    "name": "ipython",
    "version": 3
   },
   "file_extension": ".py",
   "mimetype": "text/x-python",
   "name": "python",
   "nbconvert_exporter": "python",
   "pygments_lexer": "ipython3",
   "version": "3.9.7"
  },
  "vscode": {
   "interpreter": {
    "hash": "21f817394378205066f606fcc8d7dfbc474a786cd485ff72b7c43cabf78fd17d"
   }
  }
 },
 "nbformat": 4,
 "nbformat_minor": 2
}
