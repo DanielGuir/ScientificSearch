{
 "cells": [
  {
   "cell_type": "markdown",
   "metadata": {},
   "source": [
    "## Add parameter"
   ]
  },
  {
   "cell_type": "code",
   "execution_count": 27,
   "metadata": {},
   "outputs": [],
   "source": [
    "sentence = ':Anderson is $founder and :chairman of :Interface Inc.'\n",
    "anchor = [3]\n",
    "capture = [1, 5, 7]"
   ]
  },
  {
   "cell_type": "code",
   "execution_count": 25,
   "metadata": {},
   "outputs": [
    {
     "data": {
      "text/plain": [
       "b''"
      ]
     },
     "execution_count": 25,
     "metadata": {},
     "output_type": "execute_result"
    }
   ],
   "source": [
    "import subprocess\n",
    "import sys\n",
    "\n",
    "subprocess.Popen('ls', cwd='C:/Users/guiro/Desktop/Research_S22/odinson', stdout=subprocess.PIPE, shell=True).stdout.read()\n"
   ]
  },
  {
   "cell_type": "code",
   "execution_count": 20,
   "metadata": {},
   "outputs": [
    {
     "data": {
      "text/plain": [
       "b''"
      ]
     },
     "execution_count": 20,
     "metadata": {},
     "output_type": "execute_result"
    }
   ],
   "source": [
    "subprocess.Popen(\"ls\", shell=True, stdout=subprocess.PIPE).stdout.read()"
   ]
  },
  {
   "cell_type": "markdown",
   "metadata": {},
   "source": [
    "## Parse sentence and build graph\n",
    "\n",
    "### Now performed via scala"
   ]
  },
  {
   "cell_type": "code",
   "execution_count": 392,
   "metadata": {},
   "outputs": [],
   "source": [
    "# from nltk.parse.stanford import StanfordDependencyParser\n",
    "# import os\n",
    "# java_path = \"C:/Program Files/Java/jdk1.8.0_231/bin/java.exe\"\n",
    "# os.environ['JAVAHOME'] = java_path\n",
    "\n",
    "# # Path to CoreNLP jar unzipped\n",
    "# jar_path = './stanford-corenlp-4.2.2/stanford-corenlp-4.2.2.jar'\n",
    "\n",
    "# # Path to CoreNLP model jar\n",
    "# models_jar_path = './stanford-corenlp-4.2.2-models-english.jar'\n",
    "\n",
    "\n",
    "# # Initialize StanfordDependency Parser from the path\n",
    "# parser = StanfordDependencyParser(path_to_jar = jar_path, path_to_models_jar = models_jar_path)\n",
    "\n",
    "# # Parse the sentence\n",
    "# result = parser.raw_parse(sentence)\n",
    "# dependency = result.__next__()\n",
    "\n",
    "# print (\"{:<15} | {:<10} | {:<10} | {:<15} | {:<10}\".format('Head', 'Head POS','Relation','Dependent', 'Dependent POS'))\n",
    "# print (\"-\" * 75)\n",
    "  \n",
    "# # Use dependency.triples() to extract the dependency triples in the form\n",
    "# # ((head word, head POS), relation, (dependent word, dependent POS))  \n",
    "# for dep in list(dependency.triples()):\n",
    "#   print (\"{:<15} | {:<10} | {:<10} | {:<15} | {:<10}\"\n",
    "#          .format(str(dep[0][0]),str(dep[0][1]), str(dep[1]), str(dep[2][0]),str(dep[2][1])))\n",
    "\n",
    "\n",
    "\n"
   ]
  },
  {
   "cell_type": "code",
   "execution_count": 36,
   "metadata": {},
   "outputs": [
    {
     "name": "stdout",
     "output_type": "stream",
     "text": [
      "defaultdict(<class 'set'>, {3: {1, 2, 4, 5, 8, 9}, 1: {3}, 2: {3}, 4: {3}, 5: {3}, 8: {3, 6, 7}, 9: {3}, 6: {8}, 7: {8}}) {(3, 1): '>nsubj', (1, 3): '<nsubj', (3, 2): '>cop', (2, 3): '<cop', (3, 4): '>cc', (4, 3): '<cc', (3, 5): '>conj_and', (5, 3): '<conj_and', (3, 8): '>nmod_of', (8, 3): '<nmod_of', (3, 9): '>dep', (9, 3): '<dep', (8, 6): '>case', (6, 8): '<case', (8, 7): '>compound', (7, 8): '<compound'} [3, 3, 3, 3, 3, 3, 8, 8]\n"
     ]
    }
   ],
   "source": [
    "# from collections import defaultdict\n",
    "# # build a graph from nodes\n",
    "# graph = defaultdict(set)\n",
    "# edges = {}\n",
    "# nodes = []\n",
    "# tokens = {}\n",
    "# # make a undirected graph\n",
    "# for node in dependency.nodes:\n",
    "#     nodes.append(node)\n",
    "#     nodecontent = dependency.nodes[node]\n",
    "#     tokens[node] = nodecontent['word']\n",
    "#     for rel in nodecontent['deps']:\n",
    "#         nexts = nodecontent['deps'][rel]\n",
    "#         for nextnode in nexts:\n",
    "#             graph[node].add(nextnode)\n",
    "#             graph[nextnode].add(node)\n",
    "\n",
    "#             # outgoing edge\n",
    "#             edges[(node, nextnode)] = '>' + rel\n",
    "\n",
    "#             # incoming edge\n",
    "#             edges[(nextnode, node)] = '<' + rel\n",
    "\n",
    "from collections import defaultdict\n",
    "# build a graph from nodes\n",
    "graph = defaultdict(set)\n",
    "edges = {}\n",
    "nodes = []\n",
    "tokens = {}\n",
    "raw_tokens = sentence.split()\n",
    "for i, toke in enumerate(raw_tokens):\n",
    "    tokens[i + 1] = toke\n",
    "with open('./extra/test.txt') as relations:\n",
    "    # make a undirected graph\n",
    "    for line in relations:\n",
    "        node, modifier, rel = line.split()\n",
    "\n",
    "        # # make a undirected graph\n",
    "        # change to 1-based indexing\n",
    "        node = int(node)\n",
    "        modifier = int(modifier)\n",
    "        # if rel[-2:] == '_\\'':\n",
    "        #     pass\n",
    "        nodes.append(node)\n",
    "        graph[node].add(modifier)\n",
    "        graph[modifier].add(node)\n",
    "\n",
    "        # outgoing edge\n",
    "        edges[(node, modifier)] = '>' + rel\n",
    "\n",
    "        # incoming edge\n",
    "        edges[(modifier, node)] = '<' + rel\n",
    "        \n",
    "print(graph, edges, nodes)"
   ]
  },
  {
   "cell_type": "code",
   "execution_count": null,
   "metadata": {},
   "outputs": [],
   "source": []
  },
  {
   "cell_type": "markdown",
   "metadata": {},
   "source": [
    "## Reduce the dependency graph"
   ]
  },
  {
   "cell_type": "code",
   "execution_count": 29,
   "metadata": {},
   "outputs": [],
   "source": [
    "# bfs algorithm to find the path between hooks and captures\n",
    "# this assumes the path is unique\n",
    "from collections import deque\n",
    "query_edges = {}\n",
    "query_graph = defaultdict(set)\n",
    "def bfs(start, end):\n",
    "    '''\n",
    "    BFS function to find the path between start and end, and keeo the edges within the path\n",
    "    '''\n",
    "    if start == end:\n",
    "        return\n",
    "    path = []\n",
    "    parent = {}\n",
    "    visited = set([start])\n",
    "    q = deque([start])\n",
    "    while q:\n",
    "        cur = q.popleft()\n",
    "        if cur == end:\n",
    "            # add edges to keep\n",
    "            while cur != start:\n",
    "                query_edges[(cur, parent[cur])] = edges[(cur, parent[cur])]\n",
    "                query_edges[(parent[cur], cur)] = edges[(parent[cur], cur)]\n",
    "                cur = parent[cur]\n",
    "            # exit the loop\n",
    "            break\n",
    "        for nextnode in graph[cur]:\n",
    "            if not nextnode in visited:\n",
    "                parent[nextnode] = cur\n",
    "                q.append(nextnode)\n",
    "                visited.add(nextnode)\n",
    "\n",
    "# # retrieve the query graph\n",
    "for node1 in anchor+capture:\n",
    "    for node2 in anchor+capture:\n",
    "        bfs(node1, node2)\n",
    "\n",
    "# build the query graph from the edges'\n",
    "for i, j in query_edges:\n",
    "    query_graph[i].add(j)\n",
    "    query_graph[j].add(i)"
   ]
  },
  {
   "cell_type": "markdown",
   "metadata": {},
   "source": [
    "## Visualize query graph"
   ]
  },
  {
   "cell_type": "code",
   "execution_count": 30,
   "metadata": {},
   "outputs": [],
   "source": [
    "import networkx as nx\n",
    "G = nx.DiGraph()\n",
    "G.add_nodes_from(query_graph.keys())\n",
    "edge_labels = {}\n",
    "for edge in query_edges:\n",
    "    if query_edges[edge][0] == '>':\n",
    "        G.add_edge(*edge)\n",
    "        edge_labels[edge] = query_edges[edge][1:]"
   ]
  },
  {
   "cell_type": "code",
   "execution_count": 31,
   "metadata": {},
   "outputs": [
    {
     "data": {
      "image/png": "[encoded data removed]",
      "text/plain": [
       "<Figure size 432x288 with 1 Axes>"
      ]
     },
     "metadata": {},
     "output_type": "display_data"
    }
   ],
   "source": [
    "import matplotlib.pyplot as plt\n",
    "node_labels = {}\n",
    "for i in G.nodes:\n",
    "    if i in anchor:\n",
    "        node_labels[i] = '(word=' + tokens[i] + ')'\n",
    "    elif i in capture:\n",
    "        node_labels[i] = '<' + tokens[i] + '> (anything)'\n",
    "    else:\n",
    "        node_labels[i] = '(anything)' \n",
    "pos = nx.spring_layout(G)\n",
    "plt.figure()\n",
    "\n",
    "nx.draw(G, pos,with_labels=True, labels = node_labels, node_size=2500, bbox = dict(facecolor = \"skyblue\"), node_color='#B5EAD7', font_size=10)\n",
    "nx.draw_networkx_edge_labels(\n",
    "    G, pos,\n",
    "    edge_labels=edge_labels,\n",
    "    font_color='blue'\n",
    ")\n",
    "plt.axis('off')\n",
    "plt.show()"
   ]
  },
  {
   "cell_type": "code",
   "execution_count": 32,
   "metadata": {},
   "outputs": [
    {
     "name": "stdout",
     "output_type": "stream",
     "text": [
      "defaultdict(<class 'set'>, {1: {3}, 3: {8, 1, 5}, 5: {3}, 7: {8}, 8: {3, 7}})\n"
     ]
    }
   ],
   "source": [
    "print(query_graph)"
   ]
  },
  {
   "cell_type": "markdown",
   "metadata": {},
   "source": [
    "# Generate and parse query"
   ]
  },
  {
   "cell_type": "code",
   "execution_count": 41,
   "metadata": {},
   "outputs": [
    {
     "name": "stdout",
     "output_type": "stream",
     "text": [
      "[[1, 3, 8, 7], [3, 5]]\n",
      "(?<node1>[]) <nsubj founder >nmod_of (?<node8>[]) >compound (?<node7>[])\n",
      "founder >conj_and (?<node5>[])\n"
     ]
    }
   ],
   "source": [
    "# import copy\n",
    "# # Reduce the graph to multiple lonest paths\n",
    "# nodes = query_graph.keys()\n",
    "\n",
    "# def get_path(cur, parent):\n",
    "#     res = [cur]\n",
    "#     while cur in parent:\n",
    "#         cur = parent[cur]\n",
    "#         res.append(cur)\n",
    "#     res.reverse()\n",
    "#     return res\n",
    "\n",
    "\n",
    "# longest_paths = []\n",
    "# remaining_edge = copy.deepcopy(query_edges)\n",
    "# remaining_graph = copy.deepcopy(query_graph)\n",
    "# while remaining_edge:\n",
    "#     longest_path = []\n",
    "#     for node in nodes:\n",
    "#         parent = {}\n",
    "#         stack = [(node, 1)]\n",
    "#         visited = set([node])\n",
    "        \n",
    "#         while stack:\n",
    "#             cur, length = stack.pop()\n",
    "#             if length > len(longest_path):\n",
    "#                 longest_path = get_path(cur, parent)\n",
    "#             for nextnode in remaining_graph[cur]:\n",
    "#                 if not nextnode in visited:\n",
    "#                     visited.add(nextnode)\n",
    "#                     stack.append((nextnode, length + 1))\n",
    "#                     parent[nextnode] = cur\n",
    "#     longest_paths.append(longest_path)\n",
    "#     cur_edges = set([(longest_path[i], longest_path[i+1]) for i in range(len(longest_path) - 1)] + [(longest_path[i+1], longest_path[i]) for i in range(len(longest_path) - 1)])\n",
    "#     for item in cur_edges:\n",
    "#         del remaining_edge[item]\n",
    "#         remaining_graph[item[0]].remove(item[1])\n",
    "#     # visualize\n",
    "# print(longest_paths)\n",
    "# for longest_path in longest_paths:\n",
    "#     query_string_builder = []\n",
    "#     for i in range(len(longest_path) - 1):\n",
    "#         cur = longest_path[i]\n",
    "#         nex = longest_path[i + 1]\n",
    "#         if cur in capture:\n",
    "#             query_string_builder.append('(?<node' + str(cur) + '>[])')\n",
    "#         elif cur in anchor:\n",
    "#             query_string_builder.append(tokens[cur])\n",
    "#         else:\n",
    "#             query_string_builder.append('(?<node' + str(cur) + '>[])')\n",
    "#         query_string_builder.append(edges[(cur, nex)])\n",
    "\n",
    "#     last = longest_path[-1]\n",
    "#     if last in capture:\n",
    "#         query_string_builder.append('(?<node' + str(last) + '>[])')\n",
    "#     elif last in anchor:\n",
    "#         query_string_builder.append(tokens[cur])\n",
    "#     else:\n",
    "#         query_string_builder.append('(?<node' + str(last) + '>[])')\n",
    "#     print(\" \".join(query_string_builder))"
   ]
  },
  {
   "cell_type": "code",
   "execution_count": 35,
   "metadata": {},
   "outputs": [
    {
     "name": "stdout",
     "output_type": "stream",
     "text": [
      "[1, 3, 8, 7]\n",
      "(?<node1>[]) <nsubj founder >nmod_of (?<node8>[]) >compound (?<node7>[])\n",
      "(?<node1>[]) <nsubj founder >nmod_of (?<node8>[]) >compound (?<node7>[])\n"
     ]
    }
   ],
   "source": [
    "nodes = query_graph.keys()\n",
    "\n",
    "def get_path(cur, parent):\n",
    "    res = [cur]\n",
    "    while cur in parent:\n",
    "        cur = parent[cur]\n",
    "        res.append(cur)\n",
    "    res.reverse()\n",
    "    return res\n",
    "\n",
    "\n",
    "longest_path = []\n",
    "for node in nodes:\n",
    "    parent = {}\n",
    "    stack = [(node, 1)]\n",
    "    visited = set([node])\n",
    "    \n",
    "    while stack:\n",
    "        cur, length = stack.pop()\n",
    "        if length > len(longest_path):\n",
    "            longest_path = get_path(cur, parent)\n",
    "        for nextnode in query_graph[cur]:\n",
    "            if not nextnode in visited:\n",
    "                visited.add(nextnode)\n",
    "                stack.append((nextnode, length + 1))\n",
    "                parent[nextnode] = cur\n",
    "print(longest_path)\n",
    "\n",
    "query_string_builder = []\n",
    "for i in range(len(longest_path) - 1):\n",
    "    cur = longest_path[i]\n",
    "    nex = longest_path[i + 1]\n",
    "    if cur in capture:\n",
    "        query_string_builder.append('(?<node' + str(cur) + '>[])')\n",
    "    elif cur in anchor:\n",
    "        query_string_builder.append(tokens[cur])\n",
    "    else:\n",
    "        query_string_builder.append('(?<node' + str(cur) + '>[])')\n",
    "    query_string_builder.append(edges[(cur, nex)])\n",
    "\n",
    "last = longest_path[-1]\n",
    "if last in capture:\n",
    "    query_string_builder.append('(?<node' + str(last) + '>[])')\n",
    "elif last in anchor:\n",
    "    query_string_builder.append(tokens[cur])\n",
    "else:\n",
    "    query_string_builder.append('(?<node' + str(last) + '>[])')\n",
    "print(\" \".join(query_string_builder))\n",
    "\n",
    "with open('./extra/src/main/resources/example/generated_rules.yml', 'w+') as f:\n",
    "    f.write('rules:\\n')\n",
    "    f.write('  - name: rule1\\n')\n",
    "    f.write('    label: Person\\n')\n",
    "    f.write('    type: basic\\n')\n",
    "    f.write('    priority: 1\\n')\n",
    "    f.write('    pattern: |\\n')\n",
    "    f.write('      ' + ' '.join(query_string_builder))\n",
    "    \n",
    "print(' '.join(query_string_builder))"
   ]
  },
  {
   "cell_type": "markdown",
   "metadata": {},
   "source": [
    "## Generate query string (deprecated)"
   ]
  },
  {
   "cell_type": "code",
   "execution_count": 405,
   "metadata": {},
   "outputs": [
    {
     "name": "stdout",
     "output_type": "stream",
     "text": [
      "(?<Anderson>[]) <nsubj founder >nmod_of [] >compound (?<Interface>[])\n"
     ]
    }
   ],
   "source": [
    "# ## Generate query string\n",
    "# query_string_builder = []\n",
    "# visited = set()\n",
    "# q = deque([sorted(G.nodes)[0]])\n",
    "# while q:\n",
    "#     cur = q.popleft()\n",
    "#     visited.add(cur)\n",
    "#     if cur in capture:\n",
    "#         query_string_builder.append('(?<' + tokens[cur] + '>[])')\n",
    "#     elif cur in anchor:\n",
    "#         query_string_builder.append(tokens[cur])\n",
    "#     else:\n",
    "#         query_string_builder.append('[]')\n",
    "#     for j in query_graph[cur]:\n",
    "#         if not j in visited:\n",
    "#             q.append(j)\n",
    "#             query_string_builder.append(query_edges[(cur, j)])\n",
    "\n",
    "# with open('./extra/src/main/resources/example/generated_rules.yml', 'w+') as f:\n",
    "#     f.write('rules:\\n')\n",
    "#     f.write('  - name: rule1\\n')\n",
    "#     f.write('    label: Person\\n')\n",
    "#     f.write('    type: basic\\n')\n",
    "#     f.write('    priority: 1\\n')\n",
    "#     f.write('    pattern: |\\n')\n",
    "#     f.write('      ' + ' '.join(query_string_builder))\n",
    "    \n",
    "# print(' '.join(query_string_builder))\n",
    "    "
   ]
  },
  {
   "cell_type": "markdown",
   "metadata": {},
   "source": [
    "## Run extraction"
   ]
  },
  {
   "cell_type": "markdown",
   "metadata": {},
   "source": [
    "## Filter extraction results"
   ]
  },
  {
   "cell_type": "code",
   "execution_count": 32,
   "metadata": {},
   "outputs": [
    {
     "name": "stderr",
     "output_type": "stream",
     "text": [
      "2022-11-29 16:55:24 INFO: Checking for updates to resources.json in case models have been updated.  Note: this behavior can be turned off with download_method=None or download_method=DownloadMethod.REUSE_RESOURCES\n"
     ]
    },
    {
     "data": {
      "application/vnd.jupyter.widget-view+json": {
       "model_id": "3d790cd22a044febb75edb79679a0bd2",
       "version_major": 2,
       "version_minor": 0
      },
      "text/plain": [
       "Downloading https://raw.githubusercontent.com/stanfordnlp/stanza-resources/main/resources_1.4.1.json:   0%|   …"
      ]
     },
     "metadata": {},
     "output_type": "display_data"
    },
    {
     "name": "stderr",
     "output_type": "stream",
     "text": [
      "2022-11-29 16:55:24 WARNING: Can not find mwt: default from official model list. Ignoring it.\n"
     ]
    },
    {
     "data": {
      "application/vnd.jupyter.widget-view+json": {
       "model_id": "73627789236648479cd9ed24c6376f33",
       "version_major": 2,
       "version_minor": 0
      },
      "text/plain": [
       "Downloading https://huggingface.co/stanfordnlp/stanza-en/resolve/v1.4.1/models/tokenize/combined.pt:   0%|    …"
      ]
     },
     "metadata": {},
     "output_type": "display_data"
    },
    {
     "data": {
      "application/vnd.jupyter.widget-view+json": {
       "model_id": "648bc89c33504f8a8cb1878107c84c14",
       "version_major": 2,
       "version_minor": 0
      },
      "text/plain": [
       "Downloading https://huggingface.co/stanfordnlp/stanza-en/resolve/v1.4.1/models/pos/combined.pt:   0%|         …"
      ]
     },
     "metadata": {},
     "output_type": "display_data"
    },
    {
     "data": {
      "application/vnd.jupyter.widget-view+json": {
       "model_id": "e53718001fcb4d159c049d8a3a9df76a",
       "version_major": 2,
       "version_minor": 0
      },
      "text/plain": [
       "Downloading https://huggingface.co/stanfordnlp/stanza-en/resolve/v1.4.1/models/lemma/combined.pt:   0%|       …"
      ]
     },
     "metadata": {},
     "output_type": "display_data"
    },
    {
     "data": {
      "application/vnd.jupyter.widget-view+json": {
       "model_id": "c1a20ecf55484a2c9a8b356801bcd8bd",
       "version_major": 2,
       "version_minor": 0
      },
      "text/plain": [
       "Downloading https://huggingface.co/stanfordnlp/stanza-en/resolve/v1.4.1/models/depparse/combined.pt:   0%|    …"
      ]
     },
     "metadata": {},
     "output_type": "display_data"
    },
    {
     "data": {
      "application/vnd.jupyter.widget-view+json": {
       "model_id": "0828f4a3b0f94294bc7465bd4457bbf3",
       "version_major": 2,
       "version_minor": 0
      },
      "text/plain": [
       "Downloading https://huggingface.co/stanfordnlp/stanza-en/resolve/v1.4.1/models/pretrain/combined.pt:   0%|    …"
      ]
     },
     "metadata": {},
     "output_type": "display_data"
    },
    {
     "data": {
      "application/vnd.jupyter.widget-view+json": {
       "model_id": "67ef6ddf73fa4254bfe4a1a414cf7f2e",
       "version_major": 2,
       "version_minor": 0
      },
      "text/plain": [
       "Downloading https://huggingface.co/stanfordnlp/stanza-en/resolve/v1.4.1/models/forward_charlm/1billion.pt:   0…"
      ]
     },
     "metadata": {},
     "output_type": "display_data"
    },
    {
     "data": {
      "application/vnd.jupyter.widget-view+json": {
       "model_id": "0863cdd261ec4a39a9d324b7dd340511",
       "version_major": 2,
       "version_minor": 0
      },
      "text/plain": [
       "Downloading https://huggingface.co/stanfordnlp/stanza-en/resolve/v1.4.1/models/backward_charlm/1billion.pt:   …"
      ]
     },
     "metadata": {},
     "output_type": "display_data"
    },
    {
     "name": "stderr",
     "output_type": "stream",
     "text": [
      "2022-11-29 16:55:39 INFO: Loading these models for language: en (English):\n",
      "========================\n",
      "| Processor | Package  |\n",
      "------------------------\n",
      "| tokenize  | combined |\n",
      "| pos       | combined |\n",
      "| lemma     | combined |\n",
      "| depparse  | combined |\n",
      "========================\n",
      "\n",
      "2022-11-29 16:55:39 INFO: Use device: gpu\n",
      "2022-11-29 16:55:39 INFO: Loading: tokenize\n",
      "2022-11-29 16:55:44 INFO: Loading: pos\n",
      "2022-11-29 16:55:44 INFO: Loading: lemma\n",
      "2022-11-29 16:55:44 INFO: Loading: depparse\n",
      "2022-11-29 16:55:45 INFO: Done loading processors!\n"
     ]
    }
   ],
   "source": [
    "import stanza\n",
    "nlp = stanza.Pipeline(lang='en', processors='tokenize,mwt,pos,lemma,depparse')"
   ]
  },
  {
   "cell_type": "code",
   "execution_count": 33,
   "metadata": {},
   "outputs": [],
   "source": [
    "doc = nlp('Anderson is founder and chairman of Interface Inc.')\n"
   ]
  },
  {
   "cell_type": "code",
   "execution_count": null,
   "metadata": {},
   "outputs": [],
   "source": [
    "import json, copy\n",
    "def verify_result(json_str, longest_path):\n",
    "    '''\n",
    "    Determines if a sentence contains the whole query graph\n",
    "    '''\n",
    "    verified_edges = set([(longest_path[i], longest_path[i+1]) for i in range(len(longest_path) - 1)] + [(longest_path[i+1], longest_path[i]) for i in range(len(longest_path) - 1)])\n",
    "    verified_nodes = set(longest_path)\n",
    "    \n",
    "    result = json.loads(json_str)\n",
    "    matches = result[\"arguments\"]\n",
    "    mapping = {} # maps query graph node to actual node\n",
    "    for node in matches:\n",
    "        mapping[int(node[-1])] = matches[node][\"odinsonMatch\"][\"start\"] + 1\n",
    "    \n",
    "    # check the remainder of query graph\n",
    "    doc = nlp(' '.join(result['detail']['document']['raw']))[0]\n",
    "    doc_graph = {}\n",
    "    for entry in doc:\n",
    "        doc_graph[(entry.id, entry.head)] = \"<\" + entry.dprel\n",
    "        doc_graph[(entry.head, entry.id)] = \">\" + entry.dprel\n",
    "\n",
    "    to_verify = copy.deepcopy(query_edges)\n",
    "    \n",
    "    for item in to_verify:\n",
    "        if item in verified_edges:\n",
    "            del item\n",
    "    keep_run = True\n",
    "    valid = True\n",
    "    while keep_run:\n",
    "        for edge in to_verify:\n",
    "            if edge[0] or edge[1] in verified_nodes:\n",
    "                # verify the edge\n"
   ]
  },
  {
   "cell_type": "code",
   "execution_count": 35,
   "metadata": {},
   "outputs": [
    {
     "name": "stdout",
     "output_type": "stream",
     "text": [
      "{(1, 3): '<nsubj', (3, 1): '>nsubj', (5, 3): '<conj_and', (3, 5): '>conj_and', (7, 8): '<compound', (8, 7): '>compound', (8, 3): '<nmod_of', (3, 8): '>nmod_of'}\n"
     ]
    }
   ],
   "source": [
    "print(query_edges)"
   ]
  },
  {
   "cell_type": "code",
   "execution_count": 34,
   "metadata": {},
   "outputs": [
    {
     "name": "stdout",
     "output_type": "stream",
     "text": [
      "id: 1\tword: Anderson\thead id: 3\thead: founder\tdeprel: nsubj\n",
      "id: 2\tword: is\thead id: 3\thead: founder\tdeprel: cop\n",
      "id: 3\tword: founder\thead id: 0\thead: root\tdeprel: root\n",
      "id: 4\tword: and\thead id: 5\thead: chairman\tdeprel: cc\n",
      "id: 5\tword: chairman\thead id: 3\thead: founder\tdeprel: conj\n",
      "id: 6\tword: of\thead id: 8\thead: Inc\tdeprel: case\n",
      "id: 7\tword: Interface\thead id: 8\thead: Inc\tdeprel: compound\n",
      "id: 8\tword: Inc\thead id: 3\thead: founder\tdeprel: nmod\n",
      "id: 9\tword: .\thead id: 3\thead: founder\tdeprel: punct\n"
     ]
    }
   ],
   "source": [
    "print(*[f'id: {word.id}\\tword: {word.text}\\thead id: {word.head}\\thead: {sent.words[word.head-1].text if word.head > 0 else \"root\"}\\tdeprel: {word.deprel}' for sent in doc.sentences for word in sent.words], sep='\\n')"
   ]
  },
  {
   "cell_type": "code",
   "execution_count": 38,
   "metadata": {},
   "outputs": [
    {
     "data": {
      "text/plain": [
       "{(3, 1): '>nsubj',\n",
       " (1, 3): '<nsubj',\n",
       " (3, 2): '>cop',\n",
       " (2, 3): '<cop',\n",
       " (3, 4): '>cc',\n",
       " (4, 3): '<cc',\n",
       " (3, 5): '>conj_and',\n",
       " (5, 3): '<conj_and',\n",
       " (3, 8): '>nmod_of',\n",
       " (8, 3): '<nmod_of',\n",
       " (3, 9): '>dep',\n",
       " (9, 3): '<dep',\n",
       " (8, 6): '>case',\n",
       " (6, 8): '<case',\n",
       " (8, 7): '>compound',\n",
       " (7, 8): '<compound'}"
      ]
     },
     "execution_count": 38,
     "metadata": {},
     "output_type": "execute_result"
    }
   ],
   "source": [
    "edges"
   ]
  },
  {
   "cell_type": "code",
   "execution_count": 406,
   "metadata": {},
   "outputs": [
    {
     "name": "stdout",
     "output_type": "stream",
     "text": [
      "Result: \n",
      "docID:  1\n",
      "document:  Anderson is founder and chairman of Interface Inc.\n",
      "Captures: \n",
      "Capture name:  Anderson\n",
      "Capture idxs:  0 - 1\n",
      "Capture words:  ['Anderson']\n",
      "Capture name:  Interface\n",
      "Capture idxs:  6 - 7\n",
      "Capture words:  ['Interface']\n",
      "\n",
      "\n",
      "Result: \n",
      "docID:  1\n",
      "document:  Anderson who is the founder and director of the Word Education Foundation , currently engages in research and implementation of sustainable developmental projects , globally .\n",
      "Captures: \n",
      "Capture name:  Anderson\n",
      "Capture idxs:  1 - 2\n",
      "Capture words:  ['who']\n",
      "Capture name:  Interface\n",
      "Capture idxs:  9 - 10\n",
      "Capture words:  ['Word']\n",
      "\n",
      "\n",
      "Result: \n",
      "docID:  1\n",
      "document:  Anderson who is the founder and director of the Word Education Foundation , currently engages in research and implementation of sustainable developmental projects , globally .\n",
      "Captures: \n",
      "Capture name:  Anderson\n",
      "Capture idxs:  1 - 2\n",
      "Capture words:  ['who']\n",
      "Capture name:  Interface\n",
      "Capture idxs:  10 - 11\n",
      "Capture words:  ['Education']\n",
      "\n",
      "\n"
     ]
    }
   ],
   "source": [
    "import json\n",
    "  \n",
    "# Opening JSON file\n",
    "with open('example_extractions_experiement.jsonl', 'r') as json_file:\n",
    "    json_list = list(json_file)\n",
    "\n",
    "\n",
    "documents = set()\n",
    "for json_str in json_list:\n",
    "    result = json.loads(json_str)\n",
    "    document_raw = result['detail']['document']['raw']\n",
    "    document = ' '.join(document_raw)\n",
    "    \n",
    "    if True:\n",
    "        print('Result: ')\n",
    "        print('docID: ', result['docId'])\n",
    "        print('document: ', document)\n",
    "        print('Captures: ')\n",
    "        for item in result[\"odinsonMatch\"][\"namedCaptures\"]:\n",
    "            print('Capture name: ', item['name'])\n",
    "            print(\"Capture idxs: \", item['capturedMatch']['start'], '-', item['capturedMatch']['end'])\n",
    "            print(\"Capture words: \", document_raw[item['capturedMatch']['start']: item['capturedMatch']['end']])\n",
    "        documents.add(document)\n",
    "        print('\\n')"
   ]
  }
 ],
 "metadata": {
  "kernelspec": {
   "display_name": "Python 3.9.7 ('test')",
   "language": "python",
   "name": "python3"
  },
  "language_info": {
   "codemirror_mode": {
    "name": "ipython",
    "version": 3
   },
   "file_extension": ".py",
   "mimetype": "text/x-python",
   "name": "python",
   "nbconvert_exporter": "python",
   "pygments_lexer": "ipython3",
   "version": "3.9.7"
  },
  "orig_nbformat": 4,
  "vscode": {
   "interpreter": {
    "hash": "9167cefd11376d22eea86c15b13ce1bc8473a1d8eae457488847feecbe89a0eb"
   }
  }
 },
 "nbformat": 4,
 "nbformat_minor": 2
}
